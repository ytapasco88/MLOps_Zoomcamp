{
 "cells": [
  {
   "cell_type": "markdown",
   "id": "8aa16583",
   "metadata": {},
   "source": [
    "# MLOps Zoomcamp - 01 Intro - Homework"
   ]
  },
  {
   "cell_type": "markdown",
   "id": "56874ae2",
   "metadata": {},
   "source": [
    "The goal of this homework is to train a simple model for predicting the duration of a ride - similar to what we did in this module."
   ]
  },
  {
   "cell_type": "markdown",
   "id": "654646b1",
   "metadata": {},
   "source": [
    "## 1. Librerias necesarias"
   ]
  },
  {
   "cell_type": "code",
   "execution_count": 1,
   "id": "d6617589",
   "metadata": {},
   "outputs": [],
   "source": [
    "#!pip install pyarrow"
   ]
  },
  {
   "cell_type": "markdown",
   "id": "f135fd2d",
   "metadata": {},
   "source": [
    "## 2. Importaciones"
   ]
  },
  {
   "cell_type": "code",
   "execution_count": 2,
   "id": "a82493f1",
   "metadata": {},
   "outputs": [],
   "source": [
    "import pandas as pd\n",
    "import sklearn\n",
    "from tqdm import tqdm\n",
    "tqdm.pandas()\n",
    "import seaborn as sns\n",
    "pd.options.display.float_format = '{:20,.2f}'.format\n",
    "\n",
    "from sklearn.feature_extraction import DictVectorizer\n",
    "from sklearn.metrics import mean_squared_error\n",
    "\n",
    "from sklearn.linear_model import LinearRegression\n",
    "\n",
    "import warnings\n",
    "warnings.filterwarnings('ignore')"
   ]
  },
  {
   "cell_type": "markdown",
   "id": "3befbb11",
   "metadata": {},
   "source": [
    "## Ingesta de datos:\n",
    "\n",
    "* Se realiza la lectura de datos desde la url: https://www.nyc.gov/site/tlc/about/tlc-trip-record-data.page\n",
    "* We'll use the same NYC taxi dataset, but instead of \"Green Taxi Trip Records\", we'll use \"Yellow Taxi Trip Records\"."
   ]
  },
  {
   "cell_type": "code",
   "execution_count": 3,
   "id": "efd1feea",
   "metadata": {},
   "outputs": [],
   "source": [
    "df_jan23 = pd.read_parquet(\"https://d37ci6vzurychx.cloudfront.net/trip-data/yellow_tripdata_2023-01.parquet\")\n",
    "df_feb23 = pd.read_parquet(\"https://d37ci6vzurychx.cloudfront.net/trip-data/yellow_tripdata_2023-02.parquet\")"
   ]
  },
  {
   "cell_type": "markdown",
   "id": "37069430",
   "metadata": {},
   "source": [
    "### Q1. Downloading the data\n",
    "**Read the data for January. How many columns are there?**"
   ]
  },
  {
   "cell_type": "code",
   "execution_count": 4,
   "id": "c1273b76",
   "metadata": {},
   "outputs": [
    {
     "data": {
      "text/plain": [
       "Index(['VendorID', 'tpep_pickup_datetime', 'tpep_dropoff_datetime',\n",
       "       'passenger_count', 'trip_distance', 'RatecodeID', 'store_and_fwd_flag',\n",
       "       'PULocationID', 'DOLocationID', 'payment_type', 'fare_amount', 'extra',\n",
       "       'mta_tax', 'tip_amount', 'tolls_amount', 'improvement_surcharge',\n",
       "       'total_amount', 'congestion_surcharge', 'airport_fee'],\n",
       "      dtype='object')"
      ]
     },
     "execution_count": 4,
     "metadata": {},
     "output_type": "execute_result"
    }
   ],
   "source": [
    "df_jan23.columns"
   ]
  },
  {
   "cell_type": "code",
   "execution_count": 5,
   "id": "69a05888",
   "metadata": {},
   "outputs": [
    {
     "data": {
      "text/plain": [
       "19"
      ]
     },
     "execution_count": 5,
     "metadata": {},
     "output_type": "execute_result"
    }
   ],
   "source": [
    "columns = len(df_jan23.columns)\n",
    "columns"
   ]
  },
  {
   "cell_type": "markdown",
   "id": "567d8e8a",
   "metadata": {},
   "source": [
    "### Q2. Computing duration\n",
    "**Now let's compute the duration variable. It should contain the duration of a ride in minutes**\n",
    "\n",
    "**What's the standard deviation of the trips duration in January?**"
   ]
  },
  {
   "cell_type": "code",
   "execution_count": 6,
   "id": "363c4f6e",
   "metadata": {},
   "outputs": [
    {
     "name": "stderr",
     "output_type": "stream",
     "text": [
      "100%|██████████████████████████████████████████████████████████████████████████████████████████████████████████████████████████████████| 3066766/3066766 [00:16<00:00, 181170.99it/s]\n"
     ]
    },
    {
     "data": {
      "text/plain": [
       "42.594351241920904"
      ]
     },
     "execution_count": 6,
     "metadata": {},
     "output_type": "execute_result"
    }
   ],
   "source": [
    "df_jan23[\"duration\"] = df_jan23['tpep_dropoff_datetime'] - df_jan23['tpep_pickup_datetime']\n",
    "df_jan23['duration'] = df_jan23[\"duration\"].progress_apply(lambda td: td.total_seconds()/60)\n",
    "df_jan23[\"duration\"].std()"
   ]
  },
  {
   "cell_type": "markdown",
   "id": "8116e0ee",
   "metadata": {},
   "source": [
    "### Q3. Dropping outliers\n",
    "**Next, we need to check the distribution of the duration variable. There are some outliers. Let's remove them and keep only the records where the duration was between 1 and 60 minutes (inclusive).**\n",
    "\n",
    "**What fraction of the records left after you dropped the outliers?**"
   ]
  },
  {
   "cell_type": "code",
   "execution_count": 7,
   "id": "f7b07b27",
   "metadata": {},
   "outputs": [
    {
     "data": {
      "text/plain": [
       "<AxesSubplot:xlabel='duration'>"
      ]
     },
     "execution_count": 7,
     "metadata": {},
     "output_type": "execute_result"
    },
    {
     "data": {
      "image/png": "[encoded data removed]",
      "text/plain": [
       "<Figure size 432x288 with 1 Axes>"
      ]
     },
     "metadata": {
      "needs_background": "light"
     },
     "output_type": "display_data"
    }
   ],
   "source": [
    "sns.boxplot(x=df_jan23[\"duration\"])"
   ]
  },
  {
   "cell_type": "code",
   "execution_count": 8,
   "id": "f3178509",
   "metadata": {},
   "outputs": [],
   "source": [
    "before = df_jan23.duration.count()"
   ]
  },
  {
   "cell_type": "code",
   "execution_count": 9,
   "id": "314aec00",
   "metadata": {},
   "outputs": [],
   "source": [
    "df_jan23_without_outliers = df_jan23[(df_jan23.duration >=1) & (df_jan23.duration <=60)]"
   ]
  },
  {
   "cell_type": "code",
   "execution_count": 10,
   "id": "bbc899af",
   "metadata": {},
   "outputs": [
    {
     "data": {
      "text/plain": [
       "<AxesSubplot:xlabel='duration'>"
      ]
     },
     "execution_count": 10,
     "metadata": {},
     "output_type": "execute_result"
    },
    {
     "data": {
      "image/png": "[encoded data removed]",
      "text/plain": [
       "<Figure size 432x288 with 1 Axes>"
      ]
     },
     "metadata": {
      "needs_background": "light"
     },
     "output_type": "display_data"
    }
   ],
   "source": [
    "sns.boxplot(x=df_jan23_without_outliers[\"duration\"])"
   ]
  },
  {
   "cell_type": "code",
   "execution_count": 11,
   "id": "a2031cea",
   "metadata": {},
   "outputs": [],
   "source": [
    "after = df_jan23_without_outliers.duration.count()"
   ]
  },
  {
   "cell_type": "code",
   "execution_count": 12,
   "id": "017b0758",
   "metadata": {},
   "outputs": [
    {
     "data": {
      "text/plain": [
       "98.1220282212598"
      ]
     },
     "execution_count": 12,
     "metadata": {},
     "output_type": "execute_result"
    }
   ],
   "source": [
    "(after / before) * 100"
   ]
  },
  {
   "cell_type": "code",
   "execution_count": 13,
   "id": "8356c977",
   "metadata": {},
   "outputs": [
    {
     "data": {
      "text/plain": [
       "Index(['VendorID', 'tpep_pickup_datetime', 'tpep_dropoff_datetime',\n",
       "       'passenger_count', 'trip_distance', 'RatecodeID', 'store_and_fwd_flag',\n",
       "       'PULocationID', 'DOLocationID', 'payment_type', 'fare_amount', 'extra',\n",
       "       'mta_tax', 'tip_amount', 'tolls_amount', 'improvement_surcharge',\n",
       "       'total_amount', 'congestion_surcharge', 'airport_fee', 'duration'],\n",
       "      dtype='object')"
      ]
     },
     "execution_count": 13,
     "metadata": {},
     "output_type": "execute_result"
    }
   ],
   "source": [
    "df_jan23_without_outliers.columns"
   ]
  },
  {
   "cell_type": "code",
   "execution_count": 14,
   "id": "c13d16b8",
   "metadata": {},
   "outputs": [],
   "source": [
    "df_jan23_without_outliers[['PULocationID', 'DOLocationID']] = df_jan23_without_outliers[['PULocationID', 'DOLocationID']].astype(str)  \n",
    "\n",
    "dv = DictVectorizer()\n",
    "train_dicts = df_jan23_without_outliers[['PULocationID', 'DOLocationID']].to_dict(orient='records')\n",
    "X_train = dv.fit_transform(train_dicts) "
   ]
  },
  {
   "cell_type": "code",
   "execution_count": 15,
   "id": "1e47a67f",
   "metadata": {},
   "outputs": [
    {
     "data": {
      "text/plain": [
       "515"
      ]
     },
     "execution_count": 15,
     "metadata": {},
     "output_type": "execute_result"
    }
   ],
   "source": [
    "X_train.shape[1]"
   ]
  },
  {
   "cell_type": "code",
   "execution_count": 16,
   "id": "1e3c71f8",
   "metadata": {},
   "outputs": [],
   "source": [
    "target = 'duration'\n",
    "y_train = df_jan23_without_outliers[target].values"
   ]
  },
  {
   "cell_type": "code",
   "execution_count": 17,
   "id": "753a346c",
   "metadata": {},
   "outputs": [
    {
     "data": {
      "text/plain": [
       "7.649261027792376"
      ]
     },
     "execution_count": 17,
     "metadata": {},
     "output_type": "execute_result"
    }
   ],
   "source": [
    "model = LinearRegression()\n",
    "model.fit(X_train, y_train)\n",
    "y_pred = model.predict(X_train)\n",
    "mean_squared_error(y_train, y_pred, squared=False)"
   ]
  },
  {
   "cell_type": "code",
   "execution_count": 18,
   "id": "c6f13d88",
   "metadata": {},
   "outputs": [
    {
     "name": "stderr",
     "output_type": "stream",
     "text": [
      "100%|██████████████████████████████████████████████████████████████████████████████████████████████████████████████████████████████████| 2913955/2913955 [00:16<00:00, 171807.24it/s]\n"
     ]
    },
    {
     "data": {
      "text/plain": [
       "7.811832836304415"
      ]
     },
     "execution_count": 18,
     "metadata": {},
     "output_type": "execute_result"
    }
   ],
   "source": [
    "df_feb23[\"duration\"] = df_feb23['tpep_dropoff_datetime'] - df_feb23['tpep_pickup_datetime']\n",
    "df_feb23['duration'] = df_feb23[\"duration\"].progress_apply(lambda td: td.total_seconds()/60)\n",
    "\n",
    "df_feb23_without_outliers = df_feb23[(df_feb23.duration >=1) & (df_feb23.duration <=60)]\n",
    "\n",
    "df_feb23_without_outliers[['PULocationID', 'DOLocationID']] = df_feb23_without_outliers[['PULocationID', 'DOLocationID']].astype(str)  \n",
    "validation_dicts = df_feb23_without_outliers[['PULocationID', 'DOLocationID']].to_dict(orient='records')\n",
    "X_validation = dv.transform(validation_dicts)\n",
    "\n",
    "y_validation = df_feb23_without_outliers['duration'].values\n",
    "y_prediction = model.predict(X_validation)\n",
    "mean_squared_error(y_validation, y_prediction, squared=False)"
   ]
  },
  {
   "cell_type": "code",
   "execution_count": null,
   "id": "1f09e698",
   "metadata": {},
   "outputs": [],
   "source": []
  }
 ],
 "metadata": {
  "kernelspec": {
   "display_name": "Python 3 (ipykernel)",
   "language": "python",
   "name": "python3"
  },
  "language_info": {
   "codemirror_mode": {
    "name": "ipython",
    "version": 3
   },
   "file_extension": ".py",
   "mimetype": "text/x-python",
   "name": "python",
   "nbconvert_exporter": "python",
   "pygments_lexer": "ipython3",
   "version": "3.9.12"
  }
 },
 "nbformat": 4,
 "nbformat_minor": 5
}
